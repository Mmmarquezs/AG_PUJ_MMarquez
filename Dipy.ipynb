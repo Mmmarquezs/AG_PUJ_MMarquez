{
 "cells": [
  {
   "cell_type": "code",
   "execution_count": 1,
   "outputs": [],
   "source": [
    "import random\n",
    "\n",
    "import dipy.align\n",
    "import numpy as np\n",
    "import os\n",
    "from scipy.ndimage import binary_dilation\n",
    "from dipy.core.gradients import gradient_table\n",
    "from dipy.io.gradients import read_bvals_bvecs\n",
    "from dipy.io.image import load_nifti_data, load_nifti, save_nifti\n",
    "from dipy.direction import peaks\n",
    "from dipy.reconst import shm\n",
    "from dipy.tracking import utils\n",
    "from dipy.tracking.local_tracking import LocalTracking\n",
    "from dipy.tracking.stopping_criterion import BinaryStoppingCriterion\n",
    "from dipy.tracking.streamline import Streamlines\n",
    "from dipy.align import resample"
   ],
   "metadata": {
    "collapsed": false,
    "ExecuteTime": {
     "end_time": "2023-10-15T22:45:46.566886681Z",
     "start_time": "2023-10-15T22:45:45.907275886Z"
    }
   },
   "id": "33185d55673bb19b"
  },
  {
   "cell_type": "code",
   "execution_count": 2,
   "outputs": [],
   "source": [
    "Base_Dir = os.path.join((os.path.expanduser(\"~\")), 'Documents/Visual-Studio/Image-Processing/')\n",
    "Output_Dir = os.path.join(Base_Dir, 'Archivos-Anteriores')"
   ],
   "metadata": {
    "collapsed": false,
    "ExecuteTime": {
     "end_time": "2023-10-15T22:45:49.357799596Z",
     "start_time": "2023-10-15T22:45:49.355744469Z"
    }
   },
   "id": "945a3879057d2f74"
  },
  {
   "cell_type": "code",
   "execution_count": 60,
   "outputs": [],
   "source": [
    "T1 = os.path.join(Output_Dir, 'extracted_images_folder_T1W3D_TFE_SENSE_20121109182752_701.nii')\n",
    "DWI_S = os.path.join(Output_Dir, 'DFT-00002_singleComponent.nii')\n",
    "DWI = os.path.join(Output_Dir, 'extracted_images_folder_DTI_high_iso_SENSE_20121109182752_1301.nii')\n",
    "DWI_bvec = os.path.join(Output_Dir, 'extracted_images_folder_DTI_high_iso_SENSE_20121109182752_1301.bvec')\n",
    "DWI_bvals = os.path.join(Output_Dir, 'extracted_images_folder_DTI_high_iso_SENSE_20121109182752_1301.bval')\n",
    "Labels = os.path.join(Output_Dir, 'DFT-00002-aparc+aseg.nii.gz')\n",
    "# Parcels = os.path.join(Output_Dir, 'parcels_dipy.nii')\n",
    "Parcels = os.path.join(Output_Dir, 'DFT-00002_parcels.nii')\n",
    "mask_path = os.path.join(Output_Dir, 'DFT-00002-brainmask.nii.gz')"
   ],
   "metadata": {
    "collapsed": false,
    "ExecuteTime": {
     "end_time": "2023-10-16T12:35:51.274068137Z",
     "start_time": "2023-10-16T12:35:51.232147174Z"
    }
   },
   "id": "9dea267d9d252f32"
  },
  {
   "cell_type": "code",
   "execution_count": 53,
   "outputs": [],
   "source": [
    "from dipy.align import rigid\n",
    "data, affine, hardi_img = load_nifti(DWI, return_img=True)\n",
    "# labels, label_affine, label_voxsize = load_nifti(Labels, return_voxsize=True)\n",
    "labels = resample(Labels, DWI_S)\n",
    "parcels, parcels_affine = load_nifti(Parcels)\n",
    "# parcels = resample(Parcels, DWI_S)\n",
    "# t1_data = load_nifti_data(T1)\n",
    "# t1_data = resample(T1, DWI_S).dataobj\n",
    "bvals, bvecs = read_bvals_bvecs(DWI_bvals, DWI_bvec)\n",
    "gtab = gradient_table(bvals, bvecs)"
   ],
   "metadata": {
    "collapsed": false,
    "ExecuteTime": {
     "end_time": "2023-10-16T12:06:23.824423909Z",
     "start_time": "2023-10-16T12:06:23.002371190Z"
    }
   },
   "id": "3edcf31d45f1edd"
  },
  {
   "cell_type": "code",
   "execution_count": 61,
   "outputs": [],
   "source": [
    "# mask = (labels.dataobj != 0)\n",
    "mask = resample(mask_path, DWI_S)"
   ],
   "metadata": {
    "collapsed": false,
    "ExecuteTime": {
     "end_time": "2023-10-16T12:36:06.427834802Z",
     "start_time": "2023-10-16T12:36:06.212811214Z"
    }
   },
   "id": "7ebfd3aa9a5b4fe5"
  },
  {
   "cell_type": "code",
   "execution_count": null,
   "outputs": [],
   "source": [
    "# print(mask2.shape)\n",
    "print(mask3.shape)"
   ],
   "metadata": {
    "collapsed": false
   },
   "id": "a7d3a7dafe465929"
  },
  {
   "cell_type": "code",
   "execution_count": null,
   "outputs": [],
   "source": [
    "from dipy.align.reslice import reslice\n",
    "new_zooms = (3.2,3.2,3.6571)\n",
    "labels2, label_affine2 = reslice(labels, label_affine, label_voxsize, new_zooms, order=0)\n",
    "print(labels2.shape)"
   ],
   "metadata": {
    "collapsed": false
   },
   "id": "2f8b176fd73c2490"
  },
  {
   "cell_type": "code",
   "execution_count": null,
   "outputs": [],
   "source": [
    "# newlabels = np.zeros(labels.shape, labels.dtype)\n",
    "# indices = [1032, 1014, 1012, 1019, 1020, 1018, 1027, 1003, 1028, 1024, 1017, 1035, 1026, 1002, 1023, 1010, 1006, 1007, 1016, 1009, 1033, 1015, 1030, 1034, 1001, 1022, 1031, 1008, 1029, 1025, 1005, 1011, 1021, 1013, 11, 12, 13, 9, 10, 17, 18, 26, 28, 2032, 2014, 2012, 2019, 2020, 2018, 2027, 2003, 2028, 2024, 2017, 2035, 2026, 2002, 2023, 2010, 2006, 2007, 2016, 2009, 2033, 2015, 2030, 2034, 2001, 2022, 2031, 2008, 2029, 2025, 2005, 2011, 2021, 2013, 50, 51, 52, 48, 49, 53, 54, 58, 60]\n",
    "# newlabels = np.where((labels == 2) | (labels == 41) | (labels == 77) | (labels == 85) |\n",
    "#                      (labels == 1004) | (labels == 2004), 1, newlabels)\n",
    "# newlabels = np.where((labels >= 251) & (labels <= 255), 2, newlabels)\n",
    "# \n",
    "# for i in range(86):\n",
    "#     newlabels = np.where((labels == indices[i]), i+3, newlabels)"
   ],
   "metadata": {
    "collapsed": false
   },
   "id": "c2734b18d6adf8b4"
  },
  {
   "cell_type": "code",
   "execution_count": null,
   "outputs": [],
   "source": [
    "newlabels = np.zeros(labels.shape, np.uint8)\n",
    "\n",
    "for i in range(1,4):\n",
    "    newlabels = np.where((np.round(labels) == 1000+i), i, newlabels)\n",
    "for i in range(4,35):\n",
    "    newlabels = np.where((np.round(labels) == 1001+i), i, newlabels)\n",
    "    \n",
    "indices = [8, 10, 11, 12, 13, 17, 18, 26]\n",
    "\n",
    "for i in range(35, 43):\n",
    "    newlabels = np.where((np.round(labels) == indices[i-35]), i, newlabels)\n",
    "\n",
    "for i in range(43, 49):\n",
    "    newlabels = np.where((np.round(labels) == i+6), i, newlabels)\n",
    "\n",
    "newlabels = np.where((np.round(labels) == 58), 49, newlabels)\n",
    "\n",
    "for i in range(50, 53):\n",
    "    newlabels = np.where((np.round(labels) == 1951+i), i, newlabels)\n",
    "for i in range(53, 84):\n",
    "    newlabels = np.where((np.round(labels) == 1952+i), i, newlabels)\n",
    "\n",
    "newlabels = np.where((np.round(labels) == 47), 84, newlabels)\n",
    "\n",
    "# newlabels = np.where((np.round(labels) == 2) | (np.round(labels) == 41) | (np.round(labels) == 77) | (np.round(labels) == 85) | (lnp.round(abels.dataobj )== 1004) | (np.round(labels) == 2004), 85, newlabels)\n",
    "# newlabels = np.where((np.round(labels) >= 251) & (np.round(labels) <= 255), 86, newlabels)"
   ],
   "metadata": {
    "collapsed": false
   },
   "id": "c00902a95a017b56"
  },
  {
   "cell_type": "code",
   "execution_count": null,
   "outputs": [],
   "source": [
    "# newlabels2, newlabels2_affine = dipy.align.translation(Parcels, DWI_S)\n",
    "newlabels2 = resample(moving=newlabels, static=DWI_S, moving_affine=label_affine)"
   ],
   "metadata": {
    "collapsed": false
   },
   "id": "559aefab95d3ab0"
  },
  {
   "cell_type": "code",
   "execution_count": null,
   "outputs": [],
   "source": [
    "intlabels = np.zeros(newlabels2.shape, np.uint8)\n",
    "for i in range(1, newlabels2.dataobj.max().astype(np.uint8) + 1):\n",
    "    intlabels = np.where((newlabels2.dataobj==i), i, intlabels)"
   ],
   "metadata": {
    "collapsed": false
   },
   "id": "1457eb510154f792"
  },
  {
   "cell_type": "code",
   "execution_count": null,
   "outputs": [],
   "source": [
    "# maskone = np.where(((newlabels2==1)^(np.round(newlabels2).astype(np.uint8)==1)), newlabels2, 0)\n",
    "from dipy.align.reslice import reslice\n",
    "maskone, maskone_affine = reslice(newlabels, label_affine, zooms=label_voxsize, new_zooms=(2,2,3.65714), order=0)\n",
    "print(maskone.max())\n",
    "print(maskone.shape)\n",
    "print(np.min(maskone[np.nonzero(maskone)]))\n",
    "# print(np.count_nonzero(parcels==1))\n",
    "# print(np.count_nonzero(parcels.astype(np.uint8)==1))"
   ],
   "metadata": {
    "collapsed": false
   },
   "id": "282559fb8480862d"
  },
  {
   "cell_type": "code",
   "execution_count": null,
   "outputs": [],
   "source": [
    "# save_nifti(os.path.join(Output_Dir, 'parcels_dipy2.nii'), parcels.dataobj, parcels.affine)\n",
    "# save_nifti(os.path.join(Output_Dir, 'newlabels_dipy.nii'), np.round(newlabels2).astype(np.uint8), newlabels2_affine)\n",
    "# save_nifti(os.path.join(Output_Dir, 'newlabels_dipy.nii'), np.round(labels2).astype(np.uint8), label_affine2)\n",
    "# save_nifti(os.path.join(Output_Dir, 'plabels_dipy.nii'), np.round(maskone).astype(np.uint8), maskone_affine)\n",
    "save_nifti(os.path.join(Output_Dir, 'pintlabels_dipy.nii'), newparcels, np.eye(4))"
   ],
   "metadata": {
    "collapsed": false
   },
   "id": "2d809e73f00d6746"
  },
  {
   "cell_type": "code",
   "execution_count": 64,
   "outputs": [],
   "source": [
    "white_matter = (mask.dataobj != 0)\n",
    "csamodel = shm.CsaOdfModel(gtab, 6)\n",
    "csapeaks = peaks.peaks_from_model(model=csamodel,\n",
    "                                  data=data,\n",
    "                                  sphere=peaks.default_sphere,\n",
    "                                  relative_peak_threshold=.8,\n",
    "                                  min_separation_angle=45,\n",
    "                                  mask=white_matter)"
   ],
   "metadata": {
    "collapsed": false,
    "ExecuteTime": {
     "end_time": "2023-10-16T12:46:52.237995838Z",
     "start_time": "2023-10-16T12:45:03.906096045Z"
    }
   },
   "id": "ba1e131855a727a"
  },
  {
   "cell_type": "code",
   "execution_count": 65,
   "outputs": [],
   "source": [
    "affine = np.eye(4)\n",
    "seeds = utils.seeds_from_mask(white_matter, affine, density=1)\n",
    "stopping_criterion = BinaryStoppingCriterion(white_matter)\n",
    "\n",
    "streamline_generator = LocalTracking(csapeaks, stopping_criterion, seeds, return_all= False,\n",
    "                                     affine=affine, step_size=0.5, maxlen=100)\n",
    "streamlines = Streamlines(streamline_generator)"
   ],
   "metadata": {
    "collapsed": false,
    "ExecuteTime": {
     "end_time": "2023-10-16T12:47:06.654024676Z",
     "start_time": "2023-10-16T12:46:52.278334049Z"
    }
   },
   "id": "9a18cb9403d15dcc"
  },
  {
   "cell_type": "code",
   "execution_count": 42,
   "outputs": [],
   "source": [
    "import random\n",
    "cc_slice = (labels.dataobj != 0)\n",
    "cc_streamlines = utils.target(streamlines, affine, cc_slice)\n",
    "cc_streamlines = Streamlines(cc_streamlines)\n",
    "# cc_streamlines = sorted(cc_streamlines, key=lambda x: random.random())\n",
    "# cc_streamlines = cc_streamlines[:10000]\n",
    "\n",
    "other_streamlines = utils.target(streamlines, affine, cc_slice,\n",
    "                                 include=False)\n",
    "other_streamlines = Streamlines(other_streamlines)\n",
    "# assert len(other_streamlines) + len(cc_streamlines) == len(streamlines)\n",
    "# cc_streamlines = [sl for sl in cc_streamlines if len(sl) > 1]"
   ],
   "metadata": {
    "collapsed": false,
    "ExecuteTime": {
     "end_time": "2023-10-16T11:46:21.354873822Z",
     "start_time": "2023-10-16T11:46:20.566295800Z"
    }
   },
   "id": "52744745ec31edb4"
  },
  {
   "cell_type": "code",
   "execution_count": 45,
   "outputs": [],
   "source": [
    "cc_streamlines2 = dipy.tracking.utils.transform_tracking_output(cc_streamlines, labels.affine)\n",
    "cc_streamlines2 = Streamlines(cc_streamlines2)"
   ],
   "metadata": {
    "collapsed": false,
    "ExecuteTime": {
     "end_time": "2023-10-16T11:51:17.934829924Z",
     "start_time": "2023-10-16T11:51:17.812922256Z"
    }
   },
   "id": "b63e84c1ff4828fb"
  },
  {
   "cell_type": "code",
   "execution_count": 51,
   "outputs": [],
   "source": [
    "from dipy.viz import window, actor, colormap as cmap\n",
    "\n",
    "# Enables/disables interactive visualization\n",
    "interactive = True\n",
    "\n",
    "# Make display objects\n",
    "color = cmap.line_colors(cc_streamlines2)\n",
    "cc_streamlines_actor = actor.line(cc_streamlines2,\n",
    "                                  cmap.line_colors(cc_streamlines2))\n",
    "cc_ROI_actor = actor.contour_from_roi((mask!=0), color=(1., 1., 0.),\n",
    "                                      opacity=0.5)\n",
    "\n",
    "# vol_actor = actor.slicer(newlabels2.dataobj)\n",
    "# \n",
    "# vol_actor.display(x=40)\n",
    "# vol_actor2 = vol_actor.copy()\n",
    "# vol_actor2.display(z=35)\n",
    "\n",
    "# Add display objects to canvas\n",
    "scene = window.Scene()\n",
    "# scene.add(vol_actor)\n",
    "# scene.add(vol_actor2)\n",
    "scene.add(cc_streamlines_actor)\n",
    "scene.add(cc_ROI_actor)\n",
    "# \n",
    "# # Save figures\n",
    "# window.record(scene, n_frames=1, out_path='corpuscallosum_axial.png',\n",
    "#               size=(800, 800))\n",
    "# if interactive:\n",
    "#     window.show(scene)\n",
    "# scene.set_camera(position=[-1, 0, 0], focal_point=[0, 0, 0], view_up=[0, 0, 1])\n",
    "# window.record(scene, n_frames=1, out_path='corpuscallosum_sagittal.png',\n",
    "#               size=(800, 800))\n",
    "if interactive:\n",
    "    window.show(scene)"
   ],
   "metadata": {
    "collapsed": false,
    "ExecuteTime": {
     "end_time": "2023-10-16T11:56:38.649585722Z",
     "start_time": "2023-10-16T11:56:02.186506894Z"
    }
   },
   "id": "30fc21c0c8c8150d"
  },
  {
   "cell_type": "code",
   "execution_count": 48,
   "outputs": [
    {
     "name": "stdout",
     "output_type": "stream",
     "text": [
      "500\n"
     ]
    }
   ],
   "source": [
    "print(sum(map(sum, M)))"
   ],
   "metadata": {
    "collapsed": false,
    "ExecuteTime": {
     "end_time": "2023-10-16T11:52:25.973560914Z",
     "start_time": "2023-10-16T11:52:25.932218068Z"
    }
   },
   "id": "e3b0f1a375d1a58a"
  },
  {
   "cell_type": "code",
   "execution_count": 10,
   "outputs": [],
   "source": [
    "from dipy.align import reslice\n",
    "newparcels = dipy.align.reslice.affine_transform(parcels, np.linalg.inv(parcels_affine))"
   ],
   "metadata": {
    "collapsed": false,
    "ExecuteTime": {
     "end_time": "2023-10-15T23:05:34.914103250Z",
     "start_time": "2023-10-15T23:05:33.193994304Z"
    }
   },
   "id": "4375fcc30b7c1e8"
  },
  {
   "cell_type": "code",
   "execution_count": null,
   "outputs": [],
   "source": [
    "intlabels_affine = np.matmul(parcels_affine, np.linalg.inv(labels.affine))\n",
    "print((intlabels_affine))"
   ],
   "metadata": {
    "collapsed": false
   },
   "id": "94a9b89ff35a70f3"
  },
  {
   "cell_type": "code",
   "execution_count": 46,
   "outputs": [],
   "source": [
    "M, grouping = utils.connectivity_matrix(cc_streamlines2, parcels_affine,\n",
    "                                        parcels,\n",
    "                                        inclusive=True,\n",
    "                                        return_mapping=True,\n",
    "                                        mapping_as_streamlines=True)\n",
    "# M[:3, :] = 0\n",
    "# M[:, :3] = 0\n",
    "M[0, :] = 0\n",
    "M[:, 0] = 0\n",
    "# M[:, 84:] = 0\n",
    "# M[84:, :] = 0\n",
    "np.fill_diagonal(M, 0)"
   ],
   "metadata": {
    "collapsed": false,
    "ExecuteTime": {
     "end_time": "2023-10-16T11:51:41.541918847Z",
     "start_time": "2023-10-16T11:51:41.483280138Z"
    }
   },
   "id": "1025ca1f7bd9293c"
  },
  {
   "cell_type": "code",
   "execution_count": 43,
   "outputs": [],
   "source": [
    "WholeArea = np.count_nonzero(mask)"
   ],
   "metadata": {
    "collapsed": false,
    "ExecuteTime": {
     "end_time": "2023-10-16T11:49:51.462493353Z",
     "start_time": "2023-10-16T11:49:51.421760127Z"
    }
   },
   "id": "3a3c1a702a69c8ef"
  },
  {
   "cell_type": "code",
   "execution_count": 31,
   "outputs": [],
   "source": [
    "M1 = np.copy(M)\n",
    "WholeArea = np.count_nonzero(mask)\n",
    "with np.nditer(M1, flags=['multi_index'], op_flags=[\"writeonly\"]) as itM:\n",
    "    for item in itM:\n",
    "        node1Area = np.count_nonzero(parcels == itM.multi_index[0])\n",
    "        node2Area = np.count_nonzero(parcels == itM.multi_index[1])\n",
    "        item[...] = item / (node1Area/WholeArea + node2Area/WholeArea)\n",
    "        if itM.multi_index[0] == itM.multi_index[1]:\n",
    "            item[...] = 0"
   ],
   "metadata": {
    "collapsed": false,
    "ExecuteTime": {
     "end_time": "2023-10-16T00:03:47.085725177Z",
     "start_time": "2023-10-16T00:02:27.861640813Z"
    }
   },
   "id": "3bd2729966dcc719"
  },
  {
   "cell_type": "code",
   "execution_count": 49,
   "outputs": [
    {
     "data": {
      "text/plain": "<Figure size 640x480 with 1 Axes>",
      "image/png": "[encoded data removed]"
     },
     "metadata": {},
     "output_type": "display_data"
    }
   ],
   "source": [
    "import numpy as np\n",
    "import matplotlib.pyplot as plt\n",
    "\n",
    "plt.imshow(np.log1p(M), interpolation='nearest')\n",
    "# plt.imshow(M1, interpolation='nearest')\n",
    "plt.savefig(\"connectivity.png\")"
   ],
   "metadata": {
    "collapsed": false,
    "ExecuteTime": {
     "end_time": "2023-10-16T11:52:39.398660450Z",
     "start_time": "2023-10-16T11:52:39.211800735Z"
    }
   },
   "id": "642ed92cd705e51"
  },
  {
   "cell_type": "code",
   "execution_count": null,
   "outputs": [],
   "source": [
    "from dipy.io.stateful_tractogram import Space, StatefulTractogram\n",
    "from dipy.io.streamline import save_trk\n",
    "sft = StatefulTractogram(cc_streamlines, hardi_img, Space.RASMM)\n",
    "save_trk(sft, os.path.join(Output_Dir, \"DFT_00002_dipy.trk\"), streamlines)"
   ],
   "metadata": {
    "collapsed": false
   },
   "id": "c8f080dd97f27006"
  }
 ],
 "metadata": {
  "kernelspec": {
   "display_name": "Python 3",
   "language": "python",
   "name": "python3"
  },
  "language_info": {
   "codemirror_mode": {
    "name": "ipython",
    "version": 2
   },
   "file_extension": ".py",
   "mimetype": "text/x-python",
   "name": "python",
   "nbconvert_exporter": "python",
   "pygments_lexer": "ipython2",
   "version": "2.7.6"
  }
 },
 "nbformat": 4,
 "nbformat_minor": 5
}
