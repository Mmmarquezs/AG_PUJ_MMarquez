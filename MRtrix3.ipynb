{
 "cells": [
  {
   "cell_type": "code",
   "execution_count": 1,
   "outputs": [],
   "source": [
    "import os\n",
    "import fnmatch"
   ],
   "metadata": {
    "collapsed": false,
    "ExecuteTime": {
     "end_time": "2023-11-17T04:28:55.992259634Z",
     "start_time": "2023-11-17T04:28:55.991148464Z"
    }
   },
   "id": "a12887c52de912a7"
  },
  {
   "cell_type": "code",
   "execution_count": 2,
   "outputs": [],
   "source": [
    "Base_Dir = os.path.join((os.path.expanduser(\"~\")), 'Documents/Visual-Studio/Image-Processing/')\n",
    "FREESURFER_HOME = '/usr/local/freesurfer/7.4.1-1'\n",
    "Lut_in = os.path.join(FREESURFER_HOME, 'FreeSurferColorLUT.txt')\n",
    "Lut_out = os.path.join(os.path.expanduser(\"~\"), '.conda/envs/MRtrix3/share/mrtrix3/labelconvert/fs_default.txt')\n",
    "Output_Dir = os.path.join(Base_Dir, 'Outputs')\n",
    "Connection_Dir = os.path.join(Base_Dir, 'Connectivity', 'MR3trix')\n",
    "os.makedirs(Connection_Dir, 0o755)"
   ],
   "metadata": {
    "collapsed": false,
    "ExecuteTime": {
     "end_time": "2023-11-17T04:29:01.979736232Z",
     "start_time": "2023-11-17T04:29:01.953916714Z"
    }
   },
   "id": "d9565349091c0ea5"
  },
  {
   "cell_type": "code",
   "execution_count": null,
   "outputs": [],
   "source": [
    "for folder in os.listdir(Output_Dir):\n",
    "    if folder not in os.listdir(Connection_Dir):\n",
    "        folder_path = os.path.join(Output_Dir, folder)\n",
    "        bvec = fnmatch.filter(os.listdir(folder_path), '*.bvec') \n",
    "        bval = fnmatch.filter(os.listdir(folder_path), '*.bval')\n",
    "        dwi = fnmatch.filter(os.listdir(folder_path), '*DTI*.nii')\n",
    "        if len(bvec) > 0 and len(bval) > 0 and len(dwi) > 0:\n",
    "            %cd {folder_path}\n",
    "            bvec = bvec[0]\n",
    "            bval = bval[0]\n",
    "            dwi = dwi[0]\n",
    "            mask = os.path.join(Connection_Dir, folder, 'Mask.mif')\n",
    "            fod = os.path.join(Connection_Dir, folder, 'FODImg.mif')\n",
    "            response_text = os.path.join(Connection_Dir, folder, 'responseText.txt')\n",
    "            track = os.path.join(Connection_Dir, folder, 'Track.tck')\n",
    "            matrix = os.path.join(Connection_Dir, folder, 'Matrix.csv')\n",
    "            freesurfer = os.path.join(FREESURFER_HOME, 'subjects', 'sub-' + folder, 'mri', 'aparc+aseg.mgz')\n",
    "            nodes = os.path.join(Connection_Dir, folder, 'Parcels.nii')\n",
    "            os.makedirs(os.path.join(Connection_Dir, folder), 0o755)\n",
    "            !dwi2mask -fslgrad '{bvec}' '{bval}' '{dwi}' '{mask}'\n",
    "            !dwi2response tournier -fslgrad '{bvec}' '{bval}' '{dwi}' '{response_text}'\n",
    "            !dwi2fod csd -fslgrad '{bvec}' '{bval}' '{dwi}' '{response_text}' '{fod}' -mask '{mask}'\n",
    "            !tckgen '{fod}' '{track}' -seed_image '{mask}' -mask '{mask}' -select 5000\n",
    "            !labelconvert '{freesurfer}' '{Lut_in}' '{Lut_out}' '{nodes}'\n",
    "            !tck2connectome -symmetric -zero_diagonal -scale_invnodevol '{track}' '{nodes}' '{matrix}'        "
   ],
   "metadata": {
    "collapsed": false,
    "is_executing": true
   },
   "id": "a61aac91b3170614"
  }
 ],
 "metadata": {
  "kernelspec": {
   "display_name": "Python 3",
   "language": "python",
   "name": "python3"
  },
  "language_info": {
   "codemirror_mode": {
    "name": "ipython",
    "version": 2
   },
   "file_extension": ".py",
   "mimetype": "text/x-python",
   "name": "python",
   "nbconvert_exporter": "python",
   "pygments_lexer": "ipython2",
   "version": "2.7.6"
  }
 },
 "nbformat": 4,
 "nbformat_minor": 5
}
